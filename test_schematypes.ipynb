{
 "cells": [
  {
   "cell_type": "code",
   "execution_count": 2,
   "metadata": {},
   "outputs": [],
   "source": [
    "    import schematypes, pytest, jsonschema"
   ]
  },
  {
   "cell_type": "markdown",
   "execution_count": null,
   "metadata": {},
   "outputs": [],
   "source": [
    "`schematypes` have carefully constructed module resolution orders to permit type discovery."
   ]
  },
  {
   "cell_type": "code",
   "execution_count": 4,
   "metadata": {},
   "outputs": [],
   "source": [
    "    def test_discovery():\n",
    "        assert isinstance(schematypes.discover(10), schematypes.Integer)\n",
    "        assert isinstance(schematypes.discover(10), schematypes.Number)\n",
    "        assert isinstance(schematypes.discover('testing'), schematypes.String)\n",
    "        with pytest.raises(AssertionError): schematypes.String(10)"
   ]
  },
  {
   "cell_type": "code",
   "execution_count": null,
   "metadata": {},
   "outputs": [],
   "source": [
    "    def test_strings():\n",
    "        assert isinstance(\"https://api.github.com\", schematypes.Uri)\n",
    "        assert not isinstance(\"#xx\", schematypes.Markdown)\n",
    "        assert isinstance(\"# xx\", schematypes.Markdown)\n",
    "        assert isinstance(\"strings.ipynb\", schematypes.File)\n"
   ]
  },
  {
   "cell_type": "code",
   "execution_count": null,
   "metadata": {},
   "outputs": [],
   "source": [
    "    def test_schema_validation():\n",
    "        with pytest.raises(BaseException):\n",
    "            class Thing(schematypes.Schema, type='what'): ...\n",
    "    def test_dict_validation(): \n",
    "        t = schematypes.Dict.new(properties=dict(a=schematypes.Integer.__schema__))\n",
    "        d = t(a=2)\n",
    "        # with pytest.raises(BaseException): d['a'] = 2.2\n",
    "        # d.update(a=3.0)\n",
    "        # assert d['a'] == 3\n",
    "        # assert isinstance({'a': 100}, t)\n",
    "        # assert not isinstance({'a': 100.1}, t)\n",
    "\n",
    "\n",
    "    def test_list_validation():\n",
    "        l = schematypes.List.new(items=schematypes.String.__schema__)(list('a'))\n",
    "        # with pytest.raises(BaseException): l.append(2)\n",
    "        # l.append('c')\n",
    "        # assert l == ['a', 'c']\n",
    "        # assert not isinstance([1, 2], type(l))\n",
    "        # assert isinstance(['1', '2'], type(l))"
   ]
  }
 ],
 "metadata": {},
 "nbformat": 4,
 "nbformat_minor": 2
}